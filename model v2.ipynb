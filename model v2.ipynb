{
 "cells": [
  {
   "cell_type": "code",
   "execution_count": 279,
   "metadata": {},
   "outputs": [],
   "source": [
    "import numpy as np\n",
    "import pandas as pd"
   ]
  },
  {
   "cell_type": "code",
   "execution_count": 280,
   "metadata": {},
   "outputs": [],
   "source": [
    "# The goal of this project is to predict the date in which Canada will reach \n",
    "# herd immunity (56%-89%)"
   ]
  },
  {
   "cell_type": "code",
   "execution_count": 281,
   "metadata": {},
   "outputs": [
    {
     "data": {
      "text/html": [
       "<div>\n",
       "<style scoped>\n",
       "    .dataframe tbody tr th:only-of-type {\n",
       "        vertical-align: middle;\n",
       "    }\n",
       "\n",
       "    .dataframe tbody tr th {\n",
       "        vertical-align: top;\n",
       "    }\n",
       "\n",
       "    .dataframe thead th {\n",
       "        text-align: right;\n",
       "    }\n",
       "</style>\n",
       "<table border=\"1\" class=\"dataframe\">\n",
       "  <thead>\n",
       "    <tr style=\"text-align: right;\">\n",
       "      <th></th>\n",
       "      <th>report_date</th>\n",
       "      <th>previous_day_doses_administered</th>\n",
       "      <th>total_doses_administered</th>\n",
       "      <th>total_doses_in_fully_vaccinated_individuals</th>\n",
       "      <th>total_individuals_fully_vaccinated</th>\n",
       "    </tr>\n",
       "  </thead>\n",
       "  <tbody>\n",
       "    <tr>\n",
       "      <th>0</th>\n",
       "      <td>2021-01-06</td>\n",
       "      <td>10,350</td>\n",
       "      <td>60,380</td>\n",
       "      <td>860</td>\n",
       "      <td>430</td>\n",
       "    </tr>\n",
       "    <tr>\n",
       "      <th>1</th>\n",
       "      <td>2021-01-07</td>\n",
       "      <td>12,251</td>\n",
       "      <td>72,631</td>\n",
       "      <td>2,173</td>\n",
       "      <td>1,087</td>\n",
       "    </tr>\n",
       "    <tr>\n",
       "      <th>2</th>\n",
       "      <td>2021-01-08</td>\n",
       "      <td>14,932</td>\n",
       "      <td>87,563</td>\n",
       "      <td>4,053</td>\n",
       "      <td>2,027</td>\n",
       "    </tr>\n",
       "    <tr>\n",
       "      <th>3</th>\n",
       "      <td>2021-01-09</td>\n",
       "      <td>15,700</td>\n",
       "      <td>103,263</td>\n",
       "      <td>5,880</td>\n",
       "      <td>2,940</td>\n",
       "    </tr>\n",
       "    <tr>\n",
       "      <th>4</th>\n",
       "      <td>2021-01-10</td>\n",
       "      <td>9,983</td>\n",
       "      <td>113,246</td>\n",
       "      <td>5,884</td>\n",
       "      <td>2,942</td>\n",
       "    </tr>\n",
       "  </tbody>\n",
       "</table>\n",
       "</div>"
      ],
      "text/plain": [
       "  report_date previous_day_doses_administered total_doses_administered  \\\n",
       "0  2021-01-06                          10,350                   60,380   \n",
       "1  2021-01-07                          12,251                   72,631   \n",
       "2  2021-01-08                          14,932                   87,563   \n",
       "3  2021-01-09                          15,700                  103,263   \n",
       "4  2021-01-10                           9,983                  113,246   \n",
       "\n",
       "  total_doses_in_fully_vaccinated_individuals   \\\n",
       "0                                          860   \n",
       "1                                        2,173   \n",
       "2                                        4,053   \n",
       "3                                        5,880   \n",
       "4                                        5,884   \n",
       "\n",
       "  total_individuals_fully_vaccinated  \n",
       "0                                430  \n",
       "1                              1,087  \n",
       "2                              2,027  \n",
       "3                              2,940  \n",
       "4                              2,942  "
      ]
     },
     "execution_count": 281,
     "metadata": {},
     "output_type": "execute_result"
    }
   ],
   "source": [
    "df = pd.read_csv('vaccine_doses_new.csv')\n",
    "df.head()"
   ]
  },
  {
   "cell_type": "code",
   "execution_count": 282,
   "metadata": {},
   "outputs": [
    {
     "data": {
      "text/html": [
       "<div>\n",
       "<style scoped>\n",
       "    .dataframe tbody tr th:only-of-type {\n",
       "        vertical-align: middle;\n",
       "    }\n",
       "\n",
       "    .dataframe tbody tr th {\n",
       "        vertical-align: top;\n",
       "    }\n",
       "\n",
       "    .dataframe thead th {\n",
       "        text-align: right;\n",
       "    }\n",
       "</style>\n",
       "<table border=\"1\" class=\"dataframe\">\n",
       "  <thead>\n",
       "    <tr style=\"text-align: right;\">\n",
       "      <th></th>\n",
       "      <th>report_date</th>\n",
       "      <th>previous_day_doses_administered</th>\n",
       "      <th>total_doses_administered</th>\n",
       "      <th>total_doses_in_fully_vaccinated_individuals</th>\n",
       "      <th>total_individuals_fully_vaccinated</th>\n",
       "    </tr>\n",
       "  </thead>\n",
       "  <tbody>\n",
       "    <tr>\n",
       "      <th>count</th>\n",
       "      <td>78</td>\n",
       "      <td>78</td>\n",
       "      <td>78</td>\n",
       "      <td>78</td>\n",
       "      <td>78</td>\n",
       "    </tr>\n",
       "    <tr>\n",
       "      <th>unique</th>\n",
       "      <td>78</td>\n",
       "      <td>78</td>\n",
       "      <td>78</td>\n",
       "      <td>77</td>\n",
       "      <td>77</td>\n",
       "    </tr>\n",
       "    <tr>\n",
       "      <th>top</th>\n",
       "      <td>2021-03-20</td>\n",
       "      <td>2,715</td>\n",
       "      <td>687,271</td>\n",
       "      <td>5,884</td>\n",
       "      <td>2,942</td>\n",
       "    </tr>\n",
       "    <tr>\n",
       "      <th>freq</th>\n",
       "      <td>1</td>\n",
       "      <td>1</td>\n",
       "      <td>1</td>\n",
       "      <td>2</td>\n",
       "      <td>2</td>\n",
       "    </tr>\n",
       "  </tbody>\n",
       "</table>\n",
       "</div>"
      ],
      "text/plain": [
       "       report_date previous_day_doses_administered total_doses_administered  \\\n",
       "count           78                              78                       78   \n",
       "unique          78                              78                       78   \n",
       "top     2021-03-20                           2,715                  687,271   \n",
       "freq             1                               1                        1   \n",
       "\n",
       "       total_doses_in_fully_vaccinated_individuals   \\\n",
       "count                                            78   \n",
       "unique                                           77   \n",
       "top                                           5,884   \n",
       "freq                                              2   \n",
       "\n",
       "       total_individuals_fully_vaccinated  \n",
       "count                                  78  \n",
       "unique                                 77  \n",
       "top                                 2,942  \n",
       "freq                                    2  "
      ]
     },
     "execution_count": 282,
     "metadata": {},
     "output_type": "execute_result"
    }
   ],
   "source": [
    "df.describe()"
   ]
  },
  {
   "cell_type": "code",
   "execution_count": 283,
   "metadata": {},
   "outputs": [
    {
     "data": {
      "text/plain": [
       "<bound method DataFrame.info of    report_date previous_day_doses_administered total_doses_administered  \\\n",
       "0   2021-01-06                          10,350                   60,380   \n",
       "1   2021-01-07                          12,251                   72,631   \n",
       "2   2021-01-08                          14,932                   87,563   \n",
       "3   2021-01-09                          15,700                  103,263   \n",
       "4   2021-01-10                           9,983                  113,246   \n",
       "..         ...                             ...                      ...   \n",
       "73  2021-03-20                          60,283                1,480,882   \n",
       "74  2021-03-21                          40,823                1,521,705   \n",
       "75  2021-03-22                          31,335                1,553,040   \n",
       "76  2021-03-23                          50,659                1,603,699   \n",
       "77  2021-03-24                          72,451                1,676,150   \n",
       "\n",
       "   total_doses_in_fully_vaccinated_individuals   \\\n",
       "0                                           860   \n",
       "1                                         2,173   \n",
       "2                                         4,053   \n",
       "3                                         5,880   \n",
       "4                                         5,884   \n",
       "..                                          ...   \n",
       "73                                      594,267   \n",
       "74                                      597,098   \n",
       "75                                      598,594   \n",
       "76                                      602,086   \n",
       "77                                      605,328   \n",
       "\n",
       "   total_individuals_fully_vaccinated  \n",
       "0                                 430  \n",
       "1                               1,087  \n",
       "2                               2,027  \n",
       "3                               2,940  \n",
       "4                               2,942  \n",
       "..                                ...  \n",
       "73                            297,134  \n",
       "74                            298,549  \n",
       "75                            299,297  \n",
       "76                            301,043  \n",
       "77                            302,664  \n",
       "\n",
       "[78 rows x 5 columns]>"
      ]
     },
     "execution_count": 283,
     "metadata": {},
     "output_type": "execute_result"
    }
   ],
   "source": [
    "df.info"
   ]
  },
  {
   "cell_type": "code",
   "execution_count": 284,
   "metadata": {},
   "outputs": [
    {
     "data": {
      "text/plain": [
       "Index(['report_date', 'previous_day_doses_administered',\n",
       "       'total_doses_administered',\n",
       "       'total_doses_in_fully_vaccinated_individuals ',\n",
       "       'total_individuals_fully_vaccinated'],\n",
       "      dtype='object')"
      ]
     },
     "execution_count": 284,
     "metadata": {},
     "output_type": "execute_result"
    }
   ],
   "source": [
    "df.columns"
   ]
  },
  {
   "cell_type": "code",
   "execution_count": 285,
   "metadata": {},
   "outputs": [
    {
     "data": {
      "text/plain": [
       "report_date                                     object\n",
       "previous_day_doses_administered                 object\n",
       "total_doses_administered                        object\n",
       "total_doses_in_fully_vaccinated_individuals     object\n",
       "total_individuals_fully_vaccinated              object\n",
       "dtype: object"
      ]
     },
     "execution_count": 285,
     "metadata": {},
     "output_type": "execute_result"
    }
   ],
   "source": [
    "df.dtypes"
   ]
  },
  {
   "cell_type": "code",
   "execution_count": 286,
   "metadata": {},
   "outputs": [
    {
     "data": {
      "text/plain": [
       "total_individuals_fully_vaccinated              0\n",
       "total_doses_in_fully_vaccinated_individuals     0\n",
       "total_doses_administered                        0\n",
       "previous_day_doses_administered                 0\n",
       "report_date                                     0\n",
       "dtype: int64"
      ]
     },
     "execution_count": 286,
     "metadata": {},
     "output_type": "execute_result"
    }
   ],
   "source": [
    "# Check for missing values\n",
    "total_nan = df.isnull().sum().sort_values(ascending=False)\n",
    "total_nan"
   ]
  },
  {
   "cell_type": "code",
   "execution_count": 287,
   "metadata": {},
   "outputs": [
    {
     "data": {
      "text/plain": [
       "report_date                                     78\n",
       "previous_day_doses_administered                 78\n",
       "total_doses_administered                        78\n",
       "total_doses_in_fully_vaccinated_individuals     78\n",
       "total_individuals_fully_vaccinated              78\n",
       "dtype: int64"
      ]
     },
     "execution_count": 287,
     "metadata": {},
     "output_type": "execute_result"
    }
   ],
   "source": [
    "total_count = df.isnull().count()\n",
    "total_count"
   ]
  },
  {
   "cell_type": "code",
   "execution_count": 288,
   "metadata": {},
   "outputs": [],
   "source": [
    "# Noticed an extra space after 'total_doses_in_fully_vaccinated_individuals ', will change\n",
    "df = df.rename(columns={'total_doses_in_fully_vaccinated_individuals ': 'total_doses_in_fully_vaccinated_individuals'})"
   ]
  },
  {
   "cell_type": "code",
   "execution_count": 290,
   "metadata": {},
   "outputs": [
    {
     "data": {
      "text/plain": [
       "report_date                                    object\n",
       "previous_day_doses_administered                object\n",
       "total_doses_administered                       object\n",
       "total_doses_in_fully_vaccinated_individuals    object\n",
       "total_individuals_fully_vaccinated             object\n",
       "dtype: object"
      ]
     },
     "execution_count": 290,
     "metadata": {},
     "output_type": "execute_result"
    }
   ],
   "source": [
    "df.dtypes"
   ]
  }
 ],
 "metadata": {
  "kernelspec": {
   "display_name": "Python 3",
   "language": "python",
   "name": "python3"
  },
  "language_info": {
   "codemirror_mode": {
    "name": "ipython",
    "version": 3
   },
   "file_extension": ".py",
   "mimetype": "text/x-python",
   "name": "python",
   "nbconvert_exporter": "python",
   "pygments_lexer": "ipython3",
   "version": "3.8.5"
  }
 },
 "nbformat": 4,
 "nbformat_minor": 4
}
