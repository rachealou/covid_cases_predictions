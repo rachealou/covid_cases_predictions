{
 "cells": [
  {
   "cell_type": "code",
   "execution_count": 83,
   "metadata": {},
   "outputs": [],
   "source": [
    "import numpy as np\n",
    "import pandas as pd"
   ]
  },
  {
   "cell_type": "code",
   "execution_count": 84,
   "metadata": {},
   "outputs": [
    {
     "data": {
      "text/html": [
       "<div>\n",
       "<style scoped>\n",
       "    .dataframe tbody tr th:only-of-type {\n",
       "        vertical-align: middle;\n",
       "    }\n",
       "\n",
       "    .dataframe tbody tr th {\n",
       "        vertical-align: top;\n",
       "    }\n",
       "\n",
       "    .dataframe thead th {\n",
       "        text-align: right;\n",
       "    }\n",
       "</style>\n",
       "<table border=\"1\" class=\"dataframe\">\n",
       "  <thead>\n",
       "    <tr style=\"text-align: right;\">\n",
       "      <th></th>\n",
       "      <th>report_date</th>\n",
       "      <th>previous_day_doses_administered</th>\n",
       "      <th>total_doses_administered</th>\n",
       "      <th>total_doses_in_fully_vaccinated_individuals</th>\n",
       "      <th>total_individuals_fully_vaccinated</th>\n",
       "    </tr>\n",
       "  </thead>\n",
       "  <tbody>\n",
       "    <tr>\n",
       "      <th>0</th>\n",
       "      <td>2020-12-24</td>\n",
       "      <td>NaN</td>\n",
       "      <td>10,756</td>\n",
       "      <td>NaN</td>\n",
       "      <td>NaN</td>\n",
       "    </tr>\n",
       "    <tr>\n",
       "      <th>1</th>\n",
       "      <td>2020-12-30</td>\n",
       "      <td>4,595</td>\n",
       "      <td>18,603</td>\n",
       "      <td>NaN</td>\n",
       "      <td>NaN</td>\n",
       "    </tr>\n",
       "    <tr>\n",
       "      <th>2</th>\n",
       "      <td>2020-12-31</td>\n",
       "      <td>5,463</td>\n",
       "      <td>23,502</td>\n",
       "      <td>NaN</td>\n",
       "      <td>NaN</td>\n",
       "    </tr>\n",
       "    <tr>\n",
       "      <th>3</th>\n",
       "      <td>2021-01-01</td>\n",
       "      <td>5,415</td>\n",
       "      <td>28,887</td>\n",
       "      <td>NaN</td>\n",
       "      <td>NaN</td>\n",
       "    </tr>\n",
       "    <tr>\n",
       "      <th>4</th>\n",
       "      <td>2021-01-02</td>\n",
       "      <td>4,305</td>\n",
       "      <td>33,191</td>\n",
       "      <td>NaN</td>\n",
       "      <td>NaN</td>\n",
       "    </tr>\n",
       "  </tbody>\n",
       "</table>\n",
       "</div>"
      ],
      "text/plain": [
       "  report_date previous_day_doses_administered total_doses_administered  \\\n",
       "0  2020-12-24                             NaN                   10,756   \n",
       "1  2020-12-30                           4,595                   18,603   \n",
       "2  2020-12-31                           5,463                   23,502   \n",
       "3  2021-01-01                           5,415                   28,887   \n",
       "4  2021-01-02                           4,305                   33,191   \n",
       "\n",
       "  total_doses_in_fully_vaccinated_individuals   \\\n",
       "0                                          NaN   \n",
       "1                                          NaN   \n",
       "2                                          NaN   \n",
       "3                                          NaN   \n",
       "4                                          NaN   \n",
       "\n",
       "  total_individuals_fully_vaccinated  \n",
       "0                                NaN  \n",
       "1                                NaN  \n",
       "2                                NaN  \n",
       "3                                NaN  \n",
       "4                                NaN  "
      ]
     },
     "execution_count": 84,
     "metadata": {},
     "output_type": "execute_result"
    }
   ],
   "source": [
    "df = pd.read_csv('vaccine_doses.csv')\n",
    "df.head()"
   ]
  },
  {
   "cell_type": "code",
   "execution_count": 85,
   "metadata": {},
   "outputs": [
    {
     "data": {
      "text/html": [
       "<div>\n",
       "<style scoped>\n",
       "    .dataframe tbody tr th:only-of-type {\n",
       "        vertical-align: middle;\n",
       "    }\n",
       "\n",
       "    .dataframe tbody tr th {\n",
       "        vertical-align: top;\n",
       "    }\n",
       "\n",
       "    .dataframe thead th {\n",
       "        text-align: right;\n",
       "    }\n",
       "</style>\n",
       "<table border=\"1\" class=\"dataframe\">\n",
       "  <thead>\n",
       "    <tr style=\"text-align: right;\">\n",
       "      <th></th>\n",
       "      <th>report_date</th>\n",
       "      <th>previous_day_doses_administered</th>\n",
       "      <th>total_doses_administered</th>\n",
       "      <th>total_doses_in_fully_vaccinated_individuals</th>\n",
       "      <th>total_individuals_fully_vaccinated</th>\n",
       "    </tr>\n",
       "  </thead>\n",
       "  <tbody>\n",
       "    <tr>\n",
       "      <th>count</th>\n",
       "      <td>50</td>\n",
       "      <td>49</td>\n",
       "      <td>50</td>\n",
       "      <td>42</td>\n",
       "      <td>42</td>\n",
       "    </tr>\n",
       "    <tr>\n",
       "      <th>unique</th>\n",
       "      <td>50</td>\n",
       "      <td>49</td>\n",
       "      <td>50</td>\n",
       "      <td>41</td>\n",
       "      <td>41</td>\n",
       "    </tr>\n",
       "    <tr>\n",
       "      <th>top</th>\n",
       "      <td>2021-01-13</td>\n",
       "      <td>11,910</td>\n",
       "      <td>412,119</td>\n",
       "      <td>5,884</td>\n",
       "      <td>2,942</td>\n",
       "    </tr>\n",
       "    <tr>\n",
       "      <th>freq</th>\n",
       "      <td>1</td>\n",
       "      <td>1</td>\n",
       "      <td>1</td>\n",
       "      <td>2</td>\n",
       "      <td>2</td>\n",
       "    </tr>\n",
       "  </tbody>\n",
       "</table>\n",
       "</div>"
      ],
      "text/plain": [
       "       report_date previous_day_doses_administered total_doses_administered  \\\n",
       "count           50                              49                       50   \n",
       "unique          50                              49                       50   \n",
       "top     2021-01-13                          11,910                  412,119   \n",
       "freq             1                               1                        1   \n",
       "\n",
       "       total_doses_in_fully_vaccinated_individuals   \\\n",
       "count                                            42   \n",
       "unique                                           41   \n",
       "top                                           5,884   \n",
       "freq                                              2   \n",
       "\n",
       "       total_individuals_fully_vaccinated  \n",
       "count                                  42  \n",
       "unique                                 41  \n",
       "top                                 2,942  \n",
       "freq                                    2  "
      ]
     },
     "execution_count": 85,
     "metadata": {},
     "output_type": "execute_result"
    }
   ],
   "source": [
    "df.describe()"
   ]
  },
  {
   "cell_type": "code",
   "execution_count": 86,
   "metadata": {},
   "outputs": [
    {
     "data": {
      "text/plain": [
       "Index(['report_date', 'previous_day_doses_administered',\n",
       "       'total_doses_administered',\n",
       "       'total_doses_in_fully_vaccinated_individuals ',\n",
       "       'total_individuals_fully_vaccinated'],\n",
       "      dtype='object')"
      ]
     },
     "execution_count": 86,
     "metadata": {},
     "output_type": "execute_result"
    }
   ],
   "source": [
    "df.columns"
   ]
  },
  {
   "cell_type": "code",
   "execution_count": 87,
   "metadata": {},
   "outputs": [
    {
     "data": {
      "text/plain": [
       "report_date                                     object\n",
       "previous_day_doses_administered                 object\n",
       "total_doses_administered                        object\n",
       "total_doses_in_fully_vaccinated_individuals     object\n",
       "total_individuals_fully_vaccinated              object\n",
       "dtype: object"
      ]
     },
     "execution_count": 87,
     "metadata": {},
     "output_type": "execute_result"
    }
   ],
   "source": [
    "df.dtypes"
   ]
  },
  {
   "cell_type": "code",
   "execution_count": 88,
   "metadata": {},
   "outputs": [
    {
     "data": {
      "text/html": [
       "<div>\n",
       "<style scoped>\n",
       "    .dataframe tbody tr th:only-of-type {\n",
       "        vertical-align: middle;\n",
       "    }\n",
       "\n",
       "    .dataframe tbody tr th {\n",
       "        vertical-align: top;\n",
       "    }\n",
       "\n",
       "    .dataframe thead th {\n",
       "        text-align: right;\n",
       "    }\n",
       "</style>\n",
       "<table border=\"1\" class=\"dataframe\">\n",
       "  <thead>\n",
       "    <tr style=\"text-align: right;\">\n",
       "      <th></th>\n",
       "      <th>report_date</th>\n",
       "      <th>previous_day_doses_administered</th>\n",
       "      <th>total_doses_administered</th>\n",
       "      <th>total_doses_in_fully_vaccinated_individuals</th>\n",
       "      <th>total_individuals_fully_vaccinated</th>\n",
       "    </tr>\n",
       "  </thead>\n",
       "  <tbody>\n",
       "    <tr>\n",
       "      <th>0</th>\n",
       "      <td>20201224</td>\n",
       "      <td>NaN</td>\n",
       "      <td>10,756</td>\n",
       "      <td>NaN</td>\n",
       "      <td>NaN</td>\n",
       "    </tr>\n",
       "    <tr>\n",
       "      <th>1</th>\n",
       "      <td>20201230</td>\n",
       "      <td>4,595</td>\n",
       "      <td>18,603</td>\n",
       "      <td>NaN</td>\n",
       "      <td>NaN</td>\n",
       "    </tr>\n",
       "    <tr>\n",
       "      <th>2</th>\n",
       "      <td>20201231</td>\n",
       "      <td>5,463</td>\n",
       "      <td>23,502</td>\n",
       "      <td>NaN</td>\n",
       "      <td>NaN</td>\n",
       "    </tr>\n",
       "    <tr>\n",
       "      <th>3</th>\n",
       "      <td>20210101</td>\n",
       "      <td>5,415</td>\n",
       "      <td>28,887</td>\n",
       "      <td>NaN</td>\n",
       "      <td>NaN</td>\n",
       "    </tr>\n",
       "    <tr>\n",
       "      <th>4</th>\n",
       "      <td>20210102</td>\n",
       "      <td>4,305</td>\n",
       "      <td>33,191</td>\n",
       "      <td>NaN</td>\n",
       "      <td>NaN</td>\n",
       "    </tr>\n",
       "  </tbody>\n",
       "</table>\n",
       "</div>"
      ],
      "text/plain": [
       "  report_date previous_day_doses_administered total_doses_administered  \\\n",
       "0    20201224                             NaN                   10,756   \n",
       "1    20201230                           4,595                   18,603   \n",
       "2    20201231                           5,463                   23,502   \n",
       "3    20210101                           5,415                   28,887   \n",
       "4    20210102                           4,305                   33,191   \n",
       "\n",
       "  total_doses_in_fully_vaccinated_individuals   \\\n",
       "0                                          NaN   \n",
       "1                                          NaN   \n",
       "2                                          NaN   \n",
       "3                                          NaN   \n",
       "4                                          NaN   \n",
       "\n",
       "  total_individuals_fully_vaccinated  \n",
       "0                                NaN  \n",
       "1                                NaN  \n",
       "2                                NaN  \n",
       "3                                NaN  \n",
       "4                                NaN  "
      ]
     },
     "execution_count": 88,
     "metadata": {},
     "output_type": "execute_result"
    }
   ],
   "source": [
    "# Convert report_date to numeric values\n",
    "# replace(x, y) replaces every instance of x into y\n",
    "date_mod = df['report_date'].apply(lambda x: x.replace('-',''))\n",
    "df['report_date'] = date_mod\n",
    "df.head()"
   ]
  },
  {
   "cell_type": "code",
   "execution_count": 89,
   "metadata": {},
   "outputs": [
    {
     "data": {
      "text/plain": [
       "dtype('int64')"
      ]
     },
     "execution_count": 89,
     "metadata": {},
     "output_type": "execute_result"
    }
   ],
   "source": [
    "# convert all NaN values into 0 to work with data numerically\n",
    "df['previous_day_doses_administered'] = df['previous_day_doses_administered'].fillna(0)\n",
    "df['total_doses_administered'] = df['total_doses_administered'].fillna(0)\n",
    "# df['total_doses_in_fully_vaccinated_individuals'] = df['total_doses_in_fully_vaccinated_individuals'].fillna(0)\n",
    "df['total_individuals_fully_vaccinated'] = df['total_individuals_fully_vaccinated'].fillna(0)\n",
    "\n",
    "total_vac_mod = pd.to_numeric(df['total_individuals_fully_vaccinated'], errors='coerce')\n",
    "df['total_individuals_fully_vaccinated'] = total_vac_mod\n",
    "report_date_mod = pd.to_numeric(df['report_date'], errors='coerce')\n",
    "df['report_date'] = report_date_mod\n",
    "df['report_date'].dtypes\n"
   ]
  },
  {
   "cell_type": "code",
   "execution_count": 90,
   "metadata": {
    "scrolled": false
   },
   "outputs": [
    {
     "data": {
      "text/plain": [
       "Index(['report_date', 'previous_day_doses_administered',\n",
       "       'total_doses_administered',\n",
       "       'total_doses_in_fully_vaccinated_individuals ',\n",
       "       'total_individuals_fully_vaccinated', 'per_pop_vaccinated'],\n",
       "      dtype='object')"
      ]
     },
     "execution_count": 90,
     "metadata": {},
     "output_type": "execute_result"
    }
   ],
   "source": [
    "# We want to create a column that calculates the percentage of population vaccinated\n",
    "ont_pop = 14745040\n",
    "per_pop_vaccinated = df['total_individuals_fully_vaccinated'].apply(lambda x: (x/ont_pop) * 100)\n",
    "df['per_pop_vaccinated'] = per_pop_vaccinated\n",
    "df.columns"
   ]
  },
  {
   "cell_type": "code",
   "execution_count": 91,
   "metadata": {},
   "outputs": [],
   "source": [
    "# Noticed an extra space after 'total_doses_in_fully_vaccinated_individuals ', will change\n",
    "df = df.rename(columns={'total_doses_in_fully_vaccinated_individuals ': 'total_doses_in_fully_vaccinated_individuals'})"
   ]
  },
  {
   "cell_type": "code",
   "execution_count": 92,
   "metadata": {},
   "outputs": [],
   "source": [
    "# Model Building\n",
    "# We will use a logistic regression model as we have one x variable (date) and one perdictor variable (per_pop_vaccinated)\n",
    "\n",
    "from sklearn.linear_model import LinearRegression, LogisticRegression\n",
    "from sklearn.model_selection import train_test_split\n",
    "\n",
    "# X is the training set, will be dropping the predictor variable\n",
    "# also dropping other columns not needed to predict per_pop_vaccinated \n",
    "X = df.drop(['per_pop_vaccinated', 'previous_day_doses_administered', 'total_doses_administered', 'total_doses_in_fully_vaccinated_individuals', 'total_individuals_fully_vaccinated'], axis=1)\n",
    "\n",
    "# Y is the test set, will only include data for predictor variable\n",
    "Y = df['per_pop_vaccinated']\n",
    "\n",
    "X_train, X_test, y_train, y_test = train_test_split(X, Y, test_size=0.3, random_state=2)\n",
    "\n",
    "# noticed continuous type of data which was not allowed in regression\n",
    "from sklearn import preprocessing\n",
    "from sklearn import utils\n",
    "\n",
    "# lab_enc = preprocessing.LabelEncoder()\n",
    "# encoded = lab_enc.fit_transform(X)\n",
    "\n",
    "# print(utils.multiclass.type_of_target(X_train))\n",
    "# print(utils.multiclass.type_of_target(y_train))\n",
    "# print(utils.multiclass.type_of_target(y_train.astype('int')))\n",
    "# print(utils.multiclass.type_of_target(encoded))\n",
    "\n",
    "# clf = LogisticRegression()\n",
    "# clf.fit(X_train, y_train)"
   ]
  },
  {
   "cell_type": "code",
   "execution_count": 93,
   "metadata": {},
   "outputs": [],
   "source": [
    "# pred = regr.predict(X_test)"
   ]
  },
  {
   "cell_type": "code",
   "execution_count": 94,
   "metadata": {},
   "outputs": [],
   "source": [
    "# pred"
   ]
  },
  {
   "cell_type": "code",
   "execution_count": 95,
   "metadata": {},
   "outputs": [],
   "source": [
    "# Check accuracy of learning model using score()\n",
    "# regr.score(X_test, y_test)"
   ]
  },
  {
   "cell_type": "code",
   "execution_count": 96,
   "metadata": {},
   "outputs": [],
   "source": [
    "# Youtube Vid Links for Help\n",
    "# https://www.youtube.com/watch?v=H_od47aWu-s&ab_channel=Intellipaat\n",
    "# https://www.youtube.com/watch?v=Cx8Xie5042M&t=1480s&ab_channel=edureka%21"
   ]
  }
 ],
 "metadata": {
  "kernelspec": {
   "display_name": "Python 3",
   "language": "python",
   "name": "python3"
  },
  "language_info": {
   "codemirror_mode": {
    "name": "ipython",
    "version": 3
   },
   "file_extension": ".py",
   "mimetype": "text/x-python",
   "name": "python",
   "nbconvert_exporter": "python",
   "pygments_lexer": "ipython3",
   "version": "3.8.5"
  }
 },
 "nbformat": 4,
 "nbformat_minor": 4
}
