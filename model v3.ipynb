{
 "cells": [
  {
   "cell_type": "code",
   "execution_count": 214,
   "metadata": {},
   "outputs": [],
   "source": [
    "import numpy as np\n",
    "import pandas as pd\n",
    "from datetime import datetime"
   ]
  },
  {
   "cell_type": "code",
   "execution_count": 215,
   "metadata": {},
   "outputs": [],
   "source": [
    "# Create the dataset from Government of Canada website\n",
    "data_date = np.asarray([datetime(2021,1,6), datetime(2021,1,7), datetime(2021,1,8), datetime(2021,1,9), datetime(2021,1,10), datetime(2021,1,11), datetime(2021,1,12), datetime(2021,1,13), datetime(2021,1,14), datetime(2021,1,15), datetime(2021,1,16), datetime(2021,1,17), datetime(2021,1,18), datetime(2021,1,19), datetime(2021,1,20), datetime(2021,1,21), datetime(2021,1,22), datetime(2021,1,23), datetime(2021,1,24), datetime(2021,1,25), datetime(2021,1,26), datetime(2021,1,27), datetime(2021,1,28), datetime(2021,1,29), datetime(2021,1,30), datetime(2021,1,31), datetime(2021,2,1), datetime(2021,2,2), datetime(2021,2,3), datetime(2021,2,4), datetime(2021,2,5), datetime(2021,2,6), datetime(2021,2,7), datetime(2021,2,8), datetime(2021,2,9), datetime(2021,2,10), datetime(2021,2,11), datetime(2021,2,12), datetime(2021,2,13), datetime(2021,2,14), datetime(2021,2,15), datetime(2021,2,16), datetime(2021,2,17), datetime(2021,2,18), datetime(2021,2,19), datetime(2021,2,20), datetime(2021,2,21), datetime(2021,2,22), datetime(2021,2,23), datetime(2021,2,24), datetime(2021,2,25), datetime(2021,2,26), datetime(2021,2,27), datetime(2021,2,28), datetime(2021,3,1), datetime(2021,3,2), datetime(2021,3,3), datetime(2021,3,4), datetime(2021,3,5), datetime(2021,3,6), datetime(2021,3,7), datetime(2021,3,8), datetime(2021,3,9), datetime(2021,3,10), datetime(2021,3,11), datetime(2021,3,12), datetime(2021,3,13), datetime(2021,3,14), datetime(2021,3,15), datetime(2021,3,16), datetime(2021,3,17), datetime(2021,3,18), datetime(2021,3,19), datetime(2021,3,20), datetime(2021,3,21), datetime(2021,3,22), datetime(2021,3,23), datetime(2021,3,24)])\n",
    "data_total_individuals_fully_vaccinated = np.asarray([430, 1087, 2027, 2940, 2942, 2942, 3023, 4389, 6647, 8547, 9667, 10857, 10876, 12805, 16181, 20113, 24646, 29854, 31441, 35628, 41643, 48230, 55286, 61679, 67787, 68849, 70293, 72057, 74994, 80977, 87831, 96573, 101744, 106163, 115529, 125725, 136988, 151282, 164307, 174643, 182137, 186934, 195366, 205802, 217715, 229151, 235922, 240669, 247042, 251590, 255449, 258014, 260972, 262103, 263214, 264896, 266710, 268118, 269063, 270625, 271807, 273676, 276193, 279204, 281714, 282748, 284686, 285615, 287283, 288918, 290659, 292269, 294749, 297134, 298549, 299297, 301043, 302664])\n",
    "df = pd.DataFrame({'report_date': data_date, 'total_individuals_fully_vaccinated': data_total_individuals_fully_vaccinated})"
   ]
  },
  {
   "cell_type": "code",
   "execution_count": 216,
   "metadata": {
    "scrolled": false
   },
   "outputs": [
    {
     "data": {
      "text/html": [
       "<div>\n",
       "<style scoped>\n",
       "    .dataframe tbody tr th:only-of-type {\n",
       "        vertical-align: middle;\n",
       "    }\n",
       "\n",
       "    .dataframe tbody tr th {\n",
       "        vertical-align: top;\n",
       "    }\n",
       "\n",
       "    .dataframe thead th {\n",
       "        text-align: right;\n",
       "    }\n",
       "</style>\n",
       "<table border=\"1\" class=\"dataframe\">\n",
       "  <thead>\n",
       "    <tr style=\"text-align: right;\">\n",
       "      <th></th>\n",
       "      <th>report_date</th>\n",
       "      <th>total_individuals_fully_vaccinated</th>\n",
       "    </tr>\n",
       "  </thead>\n",
       "  <tbody>\n",
       "    <tr>\n",
       "      <th>0</th>\n",
       "      <td>2021-01-06</td>\n",
       "      <td>430</td>\n",
       "    </tr>\n",
       "    <tr>\n",
       "      <th>1</th>\n",
       "      <td>2021-01-07</td>\n",
       "      <td>1087</td>\n",
       "    </tr>\n",
       "    <tr>\n",
       "      <th>2</th>\n",
       "      <td>2021-01-08</td>\n",
       "      <td>2027</td>\n",
       "    </tr>\n",
       "    <tr>\n",
       "      <th>3</th>\n",
       "      <td>2021-01-09</td>\n",
       "      <td>2940</td>\n",
       "    </tr>\n",
       "    <tr>\n",
       "      <th>4</th>\n",
       "      <td>2021-01-10</td>\n",
       "      <td>2942</td>\n",
       "    </tr>\n",
       "  </tbody>\n",
       "</table>\n",
       "</div>"
      ],
      "text/plain": [
       "  report_date  total_individuals_fully_vaccinated\n",
       "0  2021-01-06                                 430\n",
       "1  2021-01-07                                1087\n",
       "2  2021-01-08                                2027\n",
       "3  2021-01-09                                2940\n",
       "4  2021-01-10                                2942"
      ]
     },
     "execution_count": 216,
     "metadata": {},
     "output_type": "execute_result"
    }
   ],
   "source": [
    "df.head()"
   ]
  },
  {
   "cell_type": "code",
   "execution_count": 217,
   "metadata": {
    "scrolled": true
   },
   "outputs": [
    {
     "data": {
      "text/plain": [
       "report_date                           datetime64[ns]\n",
       "total_individuals_fully_vaccinated             int32\n",
       "dtype: object"
      ]
     },
     "execution_count": 217,
     "metadata": {},
     "output_type": "execute_result"
    }
   ],
   "source": [
    "df.dtypes"
   ]
  },
  {
   "cell_type": "code",
   "execution_count": 218,
   "metadata": {
    "scrolled": true
   },
   "outputs": [
    {
     "data": {
      "text/plain": [
       "Index(['report_date', 'total_individuals_fully_vaccinated',\n",
       "       'per_pop_vaccinated'],\n",
       "      dtype='object')"
      ]
     },
     "execution_count": 218,
     "metadata": {},
     "output_type": "execute_result"
    }
   ],
   "source": [
    "# create column that calculates percentage of population vaccinated\n",
    "ont_pop = 14745040\n",
    "per_pop_vaccinated = df['total_individuals_fully_vaccinated'].apply(lambda x: (x/ont_pop) * 100)\n",
    "df['per_pop_vaccinated'] = per_pop_vaccinated\n",
    "df.columns"
   ]
  },
  {
   "cell_type": "code",
   "execution_count": 219,
   "metadata": {},
   "outputs": [
    {
     "data": {
      "text/html": [
       "<div>\n",
       "<style scoped>\n",
       "    .dataframe tbody tr th:only-of-type {\n",
       "        vertical-align: middle;\n",
       "    }\n",
       "\n",
       "    .dataframe tbody tr th {\n",
       "        vertical-align: top;\n",
       "    }\n",
       "\n",
       "    .dataframe thead th {\n",
       "        text-align: right;\n",
       "    }\n",
       "</style>\n",
       "<table border=\"1\" class=\"dataframe\">\n",
       "  <thead>\n",
       "    <tr style=\"text-align: right;\">\n",
       "      <th></th>\n",
       "      <th>report_date</th>\n",
       "      <th>total_individuals_fully_vaccinated</th>\n",
       "      <th>per_pop_vaccinated</th>\n",
       "    </tr>\n",
       "  </thead>\n",
       "  <tbody>\n",
       "    <tr>\n",
       "      <th>0</th>\n",
       "      <td>2021-01-06</td>\n",
       "      <td>430</td>\n",
       "      <td>0.002916</td>\n",
       "    </tr>\n",
       "    <tr>\n",
       "      <th>1</th>\n",
       "      <td>2021-01-07</td>\n",
       "      <td>1087</td>\n",
       "      <td>0.007372</td>\n",
       "    </tr>\n",
       "    <tr>\n",
       "      <th>2</th>\n",
       "      <td>2021-01-08</td>\n",
       "      <td>2027</td>\n",
       "      <td>0.013747</td>\n",
       "    </tr>\n",
       "    <tr>\n",
       "      <th>3</th>\n",
       "      <td>2021-01-09</td>\n",
       "      <td>2940</td>\n",
       "      <td>0.019939</td>\n",
       "    </tr>\n",
       "    <tr>\n",
       "      <th>4</th>\n",
       "      <td>2021-01-10</td>\n",
       "      <td>2942</td>\n",
       "      <td>0.019952</td>\n",
       "    </tr>\n",
       "  </tbody>\n",
       "</table>\n",
       "</div>"
      ],
      "text/plain": [
       "  report_date  total_individuals_fully_vaccinated  per_pop_vaccinated\n",
       "0  2021-01-06                                 430            0.002916\n",
       "1  2021-01-07                                1087            0.007372\n",
       "2  2021-01-08                                2027            0.013747\n",
       "3  2021-01-09                                2940            0.019939\n",
       "4  2021-01-10                                2942            0.019952"
      ]
     },
     "execution_count": 219,
     "metadata": {},
     "output_type": "execute_result"
    }
   ],
   "source": [
    "df.head()"
   ]
  },
  {
   "cell_type": "code",
   "execution_count": 283,
   "metadata": {
    "scrolled": true
   },
   "outputs": [
    {
     "data": {
      "image/png": "[encoded data removed]",
      "text/plain": [
       "<Figure size 432x288 with 1 Axes>"
      ]
     },
     "metadata": {
      "needs_background": "light"
     },
     "output_type": "display_data"
    }
   ],
   "source": [
    "# testing\n",
    "from sklearn import linear_model\n",
    "import matplotlib.pyplot as plt\n",
    "\n",
    "ax = df.plot(x='report_date', y='per_pop_vaccinated', color='black', style='.')\n",
    "df.plot(x='report_date', y='pred', color='orange', linewidth=3, ax=ax, alpha=0.5)\n",
    "ax.set_title('Date vs Population Vaccination')\n",
    "ax.set_xlabel('Date')\n",
    "ax.set_ylabel('Percentage of Population Vaccinated')\n",
    "\n",
    "plt.show()\n",
    "\n",
    "# source: https://stackoverflow.com/questions/54352621/sklearn-linear-regression-with-date-data/54353045"
   ]
  },
  {
   "cell_type": "code",
   "execution_count": 222,
   "metadata": {},
   "outputs": [
    {
     "data": {
      "text/html": [
       "<div>\n",
       "<style scoped>\n",
       "    .dataframe tbody tr th:only-of-type {\n",
       "        vertical-align: middle;\n",
       "    }\n",
       "\n",
       "    .dataframe tbody tr th {\n",
       "        vertical-align: top;\n",
       "    }\n",
       "\n",
       "    .dataframe thead th {\n",
       "        text-align: right;\n",
       "    }\n",
       "</style>\n",
       "<table border=\"1\" class=\"dataframe\">\n",
       "  <thead>\n",
       "    <tr style=\"text-align: right;\">\n",
       "      <th></th>\n",
       "      <th>report_date</th>\n",
       "      <th>total_individuals_fully_vaccinated</th>\n",
       "      <th>per_pop_vaccinated</th>\n",
       "      <th>pred</th>\n",
       "    </tr>\n",
       "  </thead>\n",
       "  <tbody>\n",
       "    <tr>\n",
       "      <th>0</th>\n",
       "      <td>2021-01-06</td>\n",
       "      <td>430</td>\n",
       "      <td>0.002916</td>\n",
       "      <td>-0.224468</td>\n",
       "    </tr>\n",
       "    <tr>\n",
       "      <th>1</th>\n",
       "      <td>2021-01-07</td>\n",
       "      <td>1087</td>\n",
       "      <td>0.007372</td>\n",
       "      <td>-0.191177</td>\n",
       "    </tr>\n",
       "    <tr>\n",
       "      <th>2</th>\n",
       "      <td>2021-01-08</td>\n",
       "      <td>2027</td>\n",
       "      <td>0.013747</td>\n",
       "      <td>-0.157887</td>\n",
       "    </tr>\n",
       "    <tr>\n",
       "      <th>3</th>\n",
       "      <td>2021-01-09</td>\n",
       "      <td>2940</td>\n",
       "      <td>0.019939</td>\n",
       "      <td>-0.124596</td>\n",
       "    </tr>\n",
       "    <tr>\n",
       "      <th>4</th>\n",
       "      <td>2021-01-10</td>\n",
       "      <td>2942</td>\n",
       "      <td>0.019952</td>\n",
       "      <td>-0.091305</td>\n",
       "    </tr>\n",
       "    <tr>\n",
       "      <th>...</th>\n",
       "      <td>...</td>\n",
       "      <td>...</td>\n",
       "      <td>...</td>\n",
       "      <td>...</td>\n",
       "    </tr>\n",
       "    <tr>\n",
       "      <th>73</th>\n",
       "      <td>2021-03-20</td>\n",
       "      <td>297134</td>\n",
       "      <td>2.015145</td>\n",
       "      <td>2.205762</td>\n",
       "    </tr>\n",
       "    <tr>\n",
       "      <th>74</th>\n",
       "      <td>2021-03-21</td>\n",
       "      <td>298549</td>\n",
       "      <td>2.024742</td>\n",
       "      <td>2.239053</td>\n",
       "    </tr>\n",
       "    <tr>\n",
       "      <th>75</th>\n",
       "      <td>2021-03-22</td>\n",
       "      <td>299297</td>\n",
       "      <td>2.029815</td>\n",
       "      <td>2.272343</td>\n",
       "    </tr>\n",
       "    <tr>\n",
       "      <th>76</th>\n",
       "      <td>2021-03-23</td>\n",
       "      <td>301043</td>\n",
       "      <td>2.041656</td>\n",
       "      <td>2.305634</td>\n",
       "    </tr>\n",
       "    <tr>\n",
       "      <th>77</th>\n",
       "      <td>2021-03-24</td>\n",
       "      <td>302664</td>\n",
       "      <td>2.052650</td>\n",
       "      <td>2.338925</td>\n",
       "    </tr>\n",
       "  </tbody>\n",
       "</table>\n",
       "<p>78 rows × 4 columns</p>\n",
       "</div>"
      ],
      "text/plain": [
       "   report_date  total_individuals_fully_vaccinated  per_pop_vaccinated  \\\n",
       "0   2021-01-06                                 430            0.002916   \n",
       "1   2021-01-07                                1087            0.007372   \n",
       "2   2021-01-08                                2027            0.013747   \n",
       "3   2021-01-09                                2940            0.019939   \n",
       "4   2021-01-10                                2942            0.019952   \n",
       "..         ...                                 ...                 ...   \n",
       "73  2021-03-20                              297134            2.015145   \n",
       "74  2021-03-21                              298549            2.024742   \n",
       "75  2021-03-22                              299297            2.029815   \n",
       "76  2021-03-23                              301043            2.041656   \n",
       "77  2021-03-24                              302664            2.052650   \n",
       "\n",
       "        pred  \n",
       "0  -0.224468  \n",
       "1  -0.191177  \n",
       "2  -0.157887  \n",
       "3  -0.124596  \n",
       "4  -0.091305  \n",
       "..       ...  \n",
       "73  2.205762  \n",
       "74  2.239053  \n",
       "75  2.272343  \n",
       "76  2.305634  \n",
       "77  2.338925  \n",
       "\n",
       "[78 rows x 4 columns]"
      ]
     },
     "execution_count": 222,
     "metadata": {},
     "output_type": "execute_result"
    }
   ],
   "source": [
    "df"
   ]
  },
  {
   "cell_type": "code",
   "execution_count": 223,
   "metadata": {},
   "outputs": [],
   "source": [
    "# Model Building\n",
    "# Logistic Regression\n",
    "# Decision Tree Classifier\n",
    "# Random Forest Classifier\n",
    "\n",
    "X = df.report_date\n",
    "y = df.per_pop_vaccinated"
   ]
  },
  {
   "cell_type": "code",
   "execution_count": 224,
   "metadata": {},
   "outputs": [],
   "source": [
    "# train test split\n",
    "from sklearn.model_selection import train_test_split\n",
    "X_train, X_test, y_train, y_test = train_test_split(X, y, test_size=0.2, random_state=0)"
   ]
  },
  {
   "cell_type": "code",
   "execution_count": 225,
   "metadata": {},
   "outputs": [
    {
     "data": {
      "text/plain": [
       "3    2021-01-09\n",
       "22   2021-01-28\n",
       "7    2021-01-13\n",
       "26   2021-02-01\n",
       "42   2021-02-17\n",
       "Name: report_date, dtype: datetime64[ns]"
      ]
     },
     "execution_count": 225,
     "metadata": {},
     "output_type": "execute_result"
    }
   ],
   "source": [
    "X_train.head()"
   ]
  },
  {
   "cell_type": "code",
   "execution_count": 226,
   "metadata": {
    "scrolled": true
   },
   "outputs": [
    {
     "data": {
      "text/plain": [
       "0   2021-01-06\n",
       "1   2021-01-07\n",
       "2   2021-01-08\n",
       "3   2021-01-09\n",
       "4   2021-01-10\n",
       "Name: report_date, dtype: datetime64[ns]"
      ]
     },
     "execution_count": 226,
     "metadata": {},
     "output_type": "execute_result"
    }
   ],
   "source": [
    "X.head()"
   ]
  },
  {
   "cell_type": "code",
   "execution_count": 227,
   "metadata": {},
   "outputs": [
    {
     "data": {
      "text/plain": [
       "3     0.019939\n",
       "22    0.374946\n",
       "7     0.029766\n",
       "26    0.476723\n",
       "42    1.324961\n",
       "Name: per_pop_vaccinated, dtype: float64"
      ]
     },
     "execution_count": 227,
     "metadata": {},
     "output_type": "execute_result"
    }
   ],
   "source": [
    "y_train.head()"
   ]
  },
  {
   "cell_type": "code",
   "execution_count": 228,
   "metadata": {},
   "outputs": [
    {
     "data": {
      "text/plain": [
       "0    0.002916\n",
       "1    0.007372\n",
       "2    0.013747\n",
       "3    0.019939\n",
       "4    0.019952\n",
       "Name: per_pop_vaccinated, dtype: float64"
      ]
     },
     "execution_count": 228,
     "metadata": {},
     "output_type": "execute_result"
    }
   ],
   "source": [
    "y.head()"
   ]
  },
  {
   "cell_type": "code",
   "execution_count": 229,
   "metadata": {
    "scrolled": true
   },
   "outputs": [
    {
     "data": {
      "text/plain": [
       "array([ 1.40458824,  0.66573728,  0.76648968,  1.87476613,  1.2702517 ,\n",
       "        2.07627094,  2.21060748,  2.27777575,  1.37100411,  1.67326132,\n",
       "        1.10233103,  1.841182  , -0.1738661 ,  2.10985508,  1.63967719,\n",
       "        0.90082622])"
      ]
     },
     "execution_count": 229,
     "metadata": {},
     "output_type": "execute_result"
    }
   ],
   "source": [
    "# Model Building\n",
    "# linear regression\n",
    "from sklearn import linear_model\n",
    "regr = linear_model.LinearRegression()\n",
    "regr.fit(X_train.values.reshape(-1, 1), y_train)\n",
    "y_pred_regr = regr.predict(X_test.values.astype(float).reshape(-1, 1))\n",
    "y_pred_regr\n"
   ]
  },
  {
   "cell_type": "code",
   "execution_count": 231,
   "metadata": {},
   "outputs": [
    {
     "data": {
      "text/plain": [
       "array([1.72457981, 0.48543342, 0.5775361 , 1.90564324, 1.5045675 ,\n",
       "       1.94872161, 2.00403637, 2.02960229, 1.63508774, 1.82392248,\n",
       "       1.23280676, 1.85855088, 0.01059842, 1.97488763, 1.79634908,\n",
       "       0.75780996])"
      ]
     },
     "execution_count": 231,
     "metadata": {},
     "output_type": "execute_result"
    }
   ],
   "source": [
    "# random forest regressor\n",
    "from sklearn.ensemble import RandomForestRegressor\n",
    "# Instantiate model with 1000 decision trees\n",
    "rf = RandomForestRegressor(n_estimators = 1000, random_state = 42)\n",
    "# feature = input / x \n",
    "# label = output / y\n",
    "rf.fit(X_train.values.reshape(-1, 1), y_train)\n",
    "y_pred_rf = rf.predict(X_test.values.astype(float).reshape(-1, 1))\n",
    "y_pred_rf"
   ]
  },
  {
   "cell_type": "code",
   "execution_count": 239,
   "metadata": {
    "scrolled": false
   },
   "outputs": [
    {
     "data": {
      "text/plain": [
       "0.9066322487967869"
      ]
     },
     "execution_count": 239,
     "metadata": {},
     "output_type": "execute_result"
    }
   ],
   "source": [
    "# calculate the accuracy scores\n",
    "# a r2_score of 1 means that model completely fit and explain variance in the data\n",
    "from sklearn.metrics import r2_score\n",
    "r2_score_regr = r2_score(y_test, y_pred_regr)\n",
    "r2_score_regr"
   ]
  },
  {
   "cell_type": "code",
   "execution_count": 240,
   "metadata": {},
   "outputs": [
    {
     "data": {
      "text/plain": [
       "0.9989889061960754"
      ]
     },
     "execution_count": 240,
     "metadata": {},
     "output_type": "execute_result"
    }
   ],
   "source": [
    "r2_score_rf = r2_score(y_test, y_pred_rf)\n",
    "r2_score_rf"
   ]
  },
  {
   "cell_type": "code",
   "execution_count": 279,
   "metadata": {},
   "outputs": [
    {
     "data": {
      "text/html": [
       "<div>\n",
       "<style scoped>\n",
       "    .dataframe tbody tr th:only-of-type {\n",
       "        vertical-align: middle;\n",
       "    }\n",
       "\n",
       "    .dataframe tbody tr th {\n",
       "        vertical-align: top;\n",
       "    }\n",
       "\n",
       "    .dataframe thead th {\n",
       "        text-align: right;\n",
       "    }\n",
       "</style>\n",
       "<table border=\"1\" class=\"dataframe\">\n",
       "  <thead>\n",
       "    <tr style=\"text-align: right;\">\n",
       "      <th></th>\n",
       "      <th>report_date</th>\n",
       "      <th>y_pred_regr</th>\n",
       "    </tr>\n",
       "  </thead>\n",
       "  <tbody>\n",
       "    <tr>\n",
       "      <th>0</th>\n",
       "      <td>2027-01-01</td>\n",
       "      <td>73.173885</td>\n",
       "    </tr>\n",
       "    <tr>\n",
       "      <th>1</th>\n",
       "      <td>2027-02-01</td>\n",
       "      <td>74.214993</td>\n",
       "    </tr>\n",
       "  </tbody>\n",
       "</table>\n",
       "</div>"
      ],
      "text/plain": [
       "  report_date  y_pred_regr\n",
       "0  2027-01-01    73.173885\n",
       "1  2027-02-01    74.214993"
      ]
     },
     "execution_count": 279,
     "metadata": {},
     "output_type": "execute_result"
    }
   ],
   "source": [
    "# making predictions\n",
    "xnew = np.asarray([datetime(2027,1, 1), datetime(2027, 2, 1)])\n",
    "df_new = pd.DataFrame({'report_date': xnew})\n",
    "df_new_pred = df_new['report_date']\n",
    "ynew_regr = regr.predict(df_new_pred.values.astype(float).reshape(-1, 1))\n",
    "df_new['y_pred_regr'] = ynew_regr\n",
    "df_new"
   ]
  }
 ],
 "metadata": {
  "kernelspec": {
   "display_name": "Python 3",
   "language": "python",
   "name": "python3"
  },
  "language_info": {
   "codemirror_mode": {
    "name": "ipython",
    "version": 3
   },
   "file_extension": ".py",
   "mimetype": "text/x-python",
   "name": "python",
   "nbconvert_exporter": "python",
   "pygments_lexer": "ipython3",
   "version": "3.8.5"
  }
 },
 "nbformat": 4,
 "nbformat_minor": 4
}
